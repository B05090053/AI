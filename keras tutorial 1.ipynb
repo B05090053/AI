{
  "nbformat": 4,
  "nbformat_minor": 0,
  "metadata": {
    "colab": {
      "name": "keras tutorial 1.ipynb",
      "provenance": []
    },
    "kernelspec": {
      "name": "python3",
      "display_name": "Python 3"
    }
  },
  "cells": [
    {
      "cell_type": "code",
      "metadata": {
        "id": "I9MNO_gf2hjC",
        "colab_type": "code",
        "colab": {
          "base_uri": "https://localhost:8080/",
          "height": 493
        },
        "outputId": "0f3c8d6d-ee8b-4e23-d62e-c1f7a56bacbd"
      },
      "source": [
        "import keras\n",
        "from keras.models import Sequential\n",
        "from keras.layers import Dense\n",
        "\n",
        "import numpy as np\n",
        "data = np.random.random((1000, 10)) #隨機產生1000筆資料，每筆資料1包含十個float數字\n",
        "labels = np.random.randint(2, size=(1000, 1)) #隨機產生1000筆資料，每筆資料上限為2(意思就是0 或 1)\n",
        "print(np.shape(data))\n",
        "print(data[0])\n",
        "print(np.shape(labels))\n",
        "print(labels[0])\n",
        "\n",
        "model = Sequential()\n",
        "model.add(Dense(32, activation='relu', input_dim=10))\n",
        "model.add(Dense(1, activation='sigmoid'))\n",
        "model.compile(optimizer='rmsprop', loss='binary_crossentropy', metrics=['accuracy'])\n",
        "\n",
        "model.fit(data, labels, epochs=10, batch_size=32)\n",
        "\n",
        "score=model.evaluate(data, labels)\n",
        "print(score[1])"
      ],
      "execution_count": 1,
      "outputs": [
        {
          "output_type": "stream",
          "text": [
            "Using TensorFlow backend.\n"
          ],
          "name": "stderr"
        },
        {
          "output_type": "stream",
          "text": [
            "(1000, 10)\n",
            "[0.63966649 0.01075123 0.49087354 0.43888346 0.40905534 0.03874283\n",
            " 0.13245288 0.8984289  0.91874882 0.2845055 ]\n",
            "(1000, 1)\n",
            "[1]\n",
            "Epoch 1/10\n",
            "1000/1000 [==============================] - 0s 317us/step - loss: 0.7009 - accuracy: 0.4810\n",
            "Epoch 2/10\n",
            "1000/1000 [==============================] - 0s 42us/step - loss: 0.6976 - accuracy: 0.4800\n",
            "Epoch 3/10\n",
            "1000/1000 [==============================] - 0s 36us/step - loss: 0.6966 - accuracy: 0.4980\n",
            "Epoch 4/10\n",
            "1000/1000 [==============================] - 0s 35us/step - loss: 0.6956 - accuracy: 0.4940\n",
            "Epoch 5/10\n",
            "1000/1000 [==============================] - 0s 37us/step - loss: 0.6953 - accuracy: 0.4880\n",
            "Epoch 6/10\n",
            "1000/1000 [==============================] - 0s 38us/step - loss: 0.6946 - accuracy: 0.4840\n",
            "Epoch 7/10\n",
            "1000/1000 [==============================] - 0s 38us/step - loss: 0.6943 - accuracy: 0.5040\n",
            "Epoch 8/10\n",
            "1000/1000 [==============================] - 0s 37us/step - loss: 0.6943 - accuracy: 0.5090\n",
            "Epoch 9/10\n",
            "1000/1000 [==============================] - 0s 34us/step - loss: 0.6933 - accuracy: 0.4990\n",
            "Epoch 10/10\n",
            "1000/1000 [==============================] - 0s 36us/step - loss: 0.6934 - accuracy: 0.5120\n",
            "1000/1000 [==============================] - 0s 36us/step\n",
            "0.5120000243186951\n"
          ],
          "name": "stdout"
        }
      ]
    }
  ]
}